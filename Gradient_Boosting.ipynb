{
  "nbformat": 4,
  "nbformat_minor": 0,
  "metadata": {
    "colab": {
      "provenance": [],
      "authorship_tag": "ABX9TyOJOojsL2YLkxUruFa+Arm9",
      "include_colab_link": true
    },
    "kernelspec": {
      "name": "python3",
      "display_name": "Python 3"
    },
    "language_info": {
      "name": "python"
    }
  },
  "cells": [
    {
      "cell_type": "markdown",
      "metadata": {
        "id": "view-in-github",
        "colab_type": "text"
      },
      "source": [
        "<a href=\"https://colab.research.google.com/github/Felipecl22/Google_Capstone/blob/main/Gradient_Boosting.ipynb\" target=\"_parent\"><img src=\"https://colab.research.google.com/assets/colab-badge.svg\" alt=\"Open In Colab\"/></a>"
      ]
    },
    {
      "cell_type": "markdown",
      "source": [
        "# **Gradient Boosting**"
      ],
      "metadata": {
        "id": "yKPLwIQe8-lE"
      }
    },
    {
      "cell_type": "code",
      "execution_count": null,
      "metadata": {
        "colab": {
          "base_uri": "https://localhost:8080/"
        },
        "id": "NsujKfHV8zH2",
        "outputId": "562da23d-c639-451c-c30c-0b5ebc256ab5"
      },
      "outputs": [
        {
          "output_type": "stream",
          "name": "stdout",
          "text": [
            "Mounted at /content/drive\n"
          ]
        }
      ],
      "source": [
        "from google.colab import drive\n",
        "drive.mount('/content/drive')\n",
        "# Montando el drive para acceder a los archivos, ya que tengo los csv en mi Drive, esto no es necesario si ustedes tienen el archivo en su escritorio."
      ]
    },
    {
      "cell_type": "code",
      "source": [
        "import pandas as pd\n",
        "\n",
        "# Ruta del archivo CSV en Google Drive.\n",
        "potencial_csv = '/content/drive/My Drive/Colab Notebooks/Módulo 5/potencial.xlsx'\n",
        "\n",
        "# Importando la data y transformandola a objeto Dataframe.\n",
        "# En este poner el path correspondiente del archivo como parametro de pd.read_csv.\n",
        "df_potencial = pd.read_excel(potencial_csv)\n",
        "\n",
        "# Imprimir la información del DataFrame consolidado\n",
        "print(df_potencial)"
      ],
      "metadata": {
        "colab": {
          "base_uri": "https://localhost:8080/"
        },
        "id": "5PkegIRm9B_F",
        "outputId": "b073c23d-fc4a-4181-da3d-438707489503"
      },
      "execution_count": null,
      "outputs": [
        {
          "output_type": "stream",
          "name": "stdout",
          "text": [
            "        ID  Age  Income  ZIP Code  Family  CCAvg  Education  Mortgage  \\\n",
            "0        1   25      49     91107       4    1.6          1         0   \n",
            "1        2   45      34     90089       3    1.5          1         0   \n",
            "2        3   39      11     94720       1    1.0          1         0   \n",
            "3        4   35     100     94112       1    2.7          2         0   \n",
            "4        5   35      45     91330       4    1.0          2         0   \n",
            "...    ...  ...     ...       ...     ...    ...        ...       ...   \n",
            "4995  4996   29      40     92697       1    1.9          3         0   \n",
            "4996  4997   30      15     92037       4    0.4          1        85   \n",
            "4997  4998   63      24     93023       2    0.3          3         0   \n",
            "4998  4999   65      49     90034       3    0.5          2         0   \n",
            "4999  5000   28      83     92612       3    0.8          1         0   \n",
            "\n",
            "      Personal Loan  \n",
            "0                 0  \n",
            "1                 0  \n",
            "2                 0  \n",
            "3                 0  \n",
            "4                 0  \n",
            "...             ...  \n",
            "4995              0  \n",
            "4996              0  \n",
            "4997              0  \n",
            "4998              0  \n",
            "4999              0  \n",
            "\n",
            "[5000 rows x 9 columns]\n"
          ]
        }
      ]
    },
    {
      "cell_type": "markdown",
      "source": [
        "Me parece que utilizar las columnas Income, CCavg y Mortgage para predecir si un cliente tomará un Personal loan.\n",
        "\n",
        "\"CCAvg\" representa el gasto promedio en tarjeta de crédito.\n",
        "\n",
        "\"Mortgage\" representa el saldo pendiente del préstamo hipotecario en el conjunto de datos dado."
      ],
      "metadata": {
        "id": "VZUd_1fK9G1r"
      }
    },
    {
      "cell_type": "code",
      "source": [
        "# Verificar por variables categóricas\n",
        "\n",
        "categoricas = []\n",
        "\n",
        "for var in df_potencial:\n",
        "    if df_potencial[var].dtype == 'O':\n",
        "        categoricas.append(var)\n",
        "\n",
        "print(f'Hay {len(categoricas)} variables categóricas en la dataframe')\n",
        "print(f'Estas son: {categoricas}')"
      ],
      "metadata": {
        "colab": {
          "base_uri": "https://localhost:8080/"
        },
        "id": "2lxKzhtX9Huj",
        "outputId": "096deaa4-b184-4e5f-d472-14e5886bdb41"
      },
      "execution_count": null,
      "outputs": [
        {
          "output_type": "stream",
          "name": "stdout",
          "text": [
            "Hay 0 variables categóricas en la dataframe\n",
            "Estas son: []\n"
          ]
        }
      ]
    },
    {
      "cell_type": "code",
      "source": [
        "# Verificar por variables categóricas\n",
        "\n",
        "numericas = []\n",
        "\n",
        "for var in df_potencial:\n",
        "    if df_potencial[var].dtype != 'O':\n",
        "        numericas.append(var)\n",
        "\n",
        "print(f'Hay {len(numericas)} variables categóricas en la dataframe')\n",
        "print(f'Estas son: {numericas}')"
      ],
      "metadata": {
        "colab": {
          "base_uri": "https://localhost:8080/"
        },
        "id": "PUGjJDtI9K57",
        "outputId": "5d33e0d2-869f-4d19-abd5-002ec8ef6ea5"
      },
      "execution_count": null,
      "outputs": [
        {
          "output_type": "stream",
          "name": "stdout",
          "text": [
            "Hay 9 variables categóricas en la dataframe\n",
            "Estas son: ['ID', 'Age', 'Income', 'ZIP Code', 'Family', 'CCAvg', 'Education', 'Mortgage', 'Personal Loan']\n"
          ]
        }
      ]
    },
    {
      "cell_type": "code",
      "source": [
        "# Verificamos por valores únicos\n",
        "df_potencial['Personal Loan'].unique()"
      ],
      "metadata": {
        "colab": {
          "base_uri": "https://localhost:8080/"
        },
        "id": "41YEn9jF9OJz",
        "outputId": "290bf8af-6e7d-4881-8b57-d24fa024803c"
      },
      "execution_count": null,
      "outputs": [
        {
          "output_type": "execute_result",
          "data": {
            "text/plain": [
              "array([0, 1])"
            ]
          },
          "metadata": {},
          "execution_count": 5
        }
      ]
    },
    {
      "cell_type": "markdown",
      "source": [
        "Con lo anterior, estamos listos para crear un Gradient Boosting regresivo."
      ],
      "metadata": {
        "id": "rUcDCNdJ9SCT"
      }
    },
    {
      "cell_type": "code",
      "source": [
        "# Creando variables predictorias y variable objetivo.\n",
        "X = df_potencial[['Income', 'CCAvg', 'Mortgage']]\n",
        "y = df_potencial['Personal Loan']"
      ],
      "metadata": {
        "id": "DlO42mC39Sj0"
      },
      "execution_count": null,
      "outputs": []
    },
    {
      "cell_type": "code",
      "source": [
        "X.isnull().sum()"
      ],
      "metadata": {
        "colab": {
          "base_uri": "https://localhost:8080/"
        },
        "id": "DITZ2fPK9VkU",
        "outputId": "3e9fb1a6-7fc1-46dc-cf0d-2f28716cd75a"
      },
      "execution_count": null,
      "outputs": [
        {
          "output_type": "execute_result",
          "data": {
            "text/plain": [
              "Income      0\n",
              "CCAvg       0\n",
              "Mortgage    0\n",
              "dtype: int64"
            ]
          },
          "metadata": {},
          "execution_count": 7
        }
      ]
    },
    {
      "cell_type": "code",
      "source": [
        "y.isnull().sum()"
      ],
      "metadata": {
        "colab": {
          "base_uri": "https://localhost:8080/"
        },
        "id": "Fj1RSBzw9Xvj",
        "outputId": "bc7e8235-1b9b-4799-97a3-56a9ac624d53"
      },
      "execution_count": null,
      "outputs": [
        {
          "output_type": "execute_result",
          "data": {
            "text/plain": [
              "0"
            ]
          },
          "metadata": {},
          "execution_count": 8
        }
      ]
    },
    {
      "cell_type": "markdown",
      "source": [
        "Normalizar datos"
      ],
      "metadata": {
        "id": "QQmZI6VI9ask"
      }
    },
    {
      "cell_type": "code",
      "source": [
        "from sklearn.preprocessing import StandardScaler\n",
        "\n",
        "# Guarda los nombres de las columnas antes de la transformación\n",
        "original_columns = X.columns.tolist()\n",
        "\n",
        "# Inicializa y ajusta el scaler a tus datos\n",
        "scaler = StandardScaler()\n",
        "scaler.fit(X)\n",
        "\n",
        "# Transforma tus datos utilizando el scaler ajustado\n",
        "X_scaled = scaler.transform(X)\n",
        "\n",
        "# Convierte la matriz transformada en un DataFrame de pandas manteniendo los nombres de las columnas originales\n",
        "X_df = pd.DataFrame(X_scaled, columns=original_columns)"
      ],
      "metadata": {
        "id": "ESKXipXV9Z-i"
      },
      "execution_count": null,
      "outputs": []
    },
    {
      "cell_type": "code",
      "source": [
        "X_df"
      ],
      "metadata": {
        "colab": {
          "base_uri": "https://localhost:8080/",
          "height": 424
        },
        "id": "oYgSL4su9cQ8",
        "outputId": "89d73c07-2522-4c14-adc6-baa6dba9e211"
      },
      "execution_count": null,
      "outputs": [
        {
          "output_type": "execute_result",
          "data": {
            "text/plain": [
              "        Income     CCAvg  Mortgage\n",
              "0    -0.538229 -0.193371 -0.555524\n",
              "1    -0.864109 -0.250595 -0.555524\n",
              "2    -1.363793 -0.536720 -0.555524\n",
              "3     0.569765  0.436103 -0.555524\n",
              "4    -0.625130 -0.536720 -0.555524\n",
              "...        ...       ...       ...\n",
              "4995 -0.733757 -0.021696 -0.555524\n",
              "4996 -1.276892 -0.880069  0.280238\n",
              "4997 -1.081363 -0.937294 -0.555524\n",
              "4998 -0.538229 -0.822844 -0.555524\n",
              "4999  0.200434 -0.651170 -0.555524\n",
              "\n",
              "[5000 rows x 3 columns]"
            ],
            "text/html": [
              "\n",
              "  <div id=\"df-a0a59f2f-e0b6-40d6-ab20-edb2de45f87c\" class=\"colab-df-container\">\n",
              "    <div>\n",
              "<style scoped>\n",
              "    .dataframe tbody tr th:only-of-type {\n",
              "        vertical-align: middle;\n",
              "    }\n",
              "\n",
              "    .dataframe tbody tr th {\n",
              "        vertical-align: top;\n",
              "    }\n",
              "\n",
              "    .dataframe thead th {\n",
              "        text-align: right;\n",
              "    }\n",
              "</style>\n",
              "<table border=\"1\" class=\"dataframe\">\n",
              "  <thead>\n",
              "    <tr style=\"text-align: right;\">\n",
              "      <th></th>\n",
              "      <th>Income</th>\n",
              "      <th>CCAvg</th>\n",
              "      <th>Mortgage</th>\n",
              "    </tr>\n",
              "  </thead>\n",
              "  <tbody>\n",
              "    <tr>\n",
              "      <th>0</th>\n",
              "      <td>-0.538229</td>\n",
              "      <td>-0.193371</td>\n",
              "      <td>-0.555524</td>\n",
              "    </tr>\n",
              "    <tr>\n",
              "      <th>1</th>\n",
              "      <td>-0.864109</td>\n",
              "      <td>-0.250595</td>\n",
              "      <td>-0.555524</td>\n",
              "    </tr>\n",
              "    <tr>\n",
              "      <th>2</th>\n",
              "      <td>-1.363793</td>\n",
              "      <td>-0.536720</td>\n",
              "      <td>-0.555524</td>\n",
              "    </tr>\n",
              "    <tr>\n",
              "      <th>3</th>\n",
              "      <td>0.569765</td>\n",
              "      <td>0.436103</td>\n",
              "      <td>-0.555524</td>\n",
              "    </tr>\n",
              "    <tr>\n",
              "      <th>4</th>\n",
              "      <td>-0.625130</td>\n",
              "      <td>-0.536720</td>\n",
              "      <td>-0.555524</td>\n",
              "    </tr>\n",
              "    <tr>\n",
              "      <th>...</th>\n",
              "      <td>...</td>\n",
              "      <td>...</td>\n",
              "      <td>...</td>\n",
              "    </tr>\n",
              "    <tr>\n",
              "      <th>4995</th>\n",
              "      <td>-0.733757</td>\n",
              "      <td>-0.021696</td>\n",
              "      <td>-0.555524</td>\n",
              "    </tr>\n",
              "    <tr>\n",
              "      <th>4996</th>\n",
              "      <td>-1.276892</td>\n",
              "      <td>-0.880069</td>\n",
              "      <td>0.280238</td>\n",
              "    </tr>\n",
              "    <tr>\n",
              "      <th>4997</th>\n",
              "      <td>-1.081363</td>\n",
              "      <td>-0.937294</td>\n",
              "      <td>-0.555524</td>\n",
              "    </tr>\n",
              "    <tr>\n",
              "      <th>4998</th>\n",
              "      <td>-0.538229</td>\n",
              "      <td>-0.822844</td>\n",
              "      <td>-0.555524</td>\n",
              "    </tr>\n",
              "    <tr>\n",
              "      <th>4999</th>\n",
              "      <td>0.200434</td>\n",
              "      <td>-0.651170</td>\n",
              "      <td>-0.555524</td>\n",
              "    </tr>\n",
              "  </tbody>\n",
              "</table>\n",
              "<p>5000 rows × 3 columns</p>\n",
              "</div>\n",
              "    <div class=\"colab-df-buttons\">\n",
              "\n",
              "  <div class=\"colab-df-container\">\n",
              "    <button class=\"colab-df-convert\" onclick=\"convertToInteractive('df-a0a59f2f-e0b6-40d6-ab20-edb2de45f87c')\"\n",
              "            title=\"Convert this dataframe to an interactive table.\"\n",
              "            style=\"display:none;\">\n",
              "\n",
              "  <svg xmlns=\"http://www.w3.org/2000/svg\" height=\"24px\" viewBox=\"0 -960 960 960\">\n",
              "    <path d=\"M120-120v-720h720v720H120Zm60-500h600v-160H180v160Zm220 220h160v-160H400v160Zm0 220h160v-160H400v160ZM180-400h160v-160H180v160Zm440 0h160v-160H620v160ZM180-180h160v-160H180v160Zm440 0h160v-160H620v160Z\"/>\n",
              "  </svg>\n",
              "    </button>\n",
              "\n",
              "  <style>\n",
              "    .colab-df-container {\n",
              "      display:flex;\n",
              "      gap: 12px;\n",
              "    }\n",
              "\n",
              "    .colab-df-convert {\n",
              "      background-color: #E8F0FE;\n",
              "      border: none;\n",
              "      border-radius: 50%;\n",
              "      cursor: pointer;\n",
              "      display: none;\n",
              "      fill: #1967D2;\n",
              "      height: 32px;\n",
              "      padding: 0 0 0 0;\n",
              "      width: 32px;\n",
              "    }\n",
              "\n",
              "    .colab-df-convert:hover {\n",
              "      background-color: #E2EBFA;\n",
              "      box-shadow: 0px 1px 2px rgba(60, 64, 67, 0.3), 0px 1px 3px 1px rgba(60, 64, 67, 0.15);\n",
              "      fill: #174EA6;\n",
              "    }\n",
              "\n",
              "    .colab-df-buttons div {\n",
              "      margin-bottom: 4px;\n",
              "    }\n",
              "\n",
              "    [theme=dark] .colab-df-convert {\n",
              "      background-color: #3B4455;\n",
              "      fill: #D2E3FC;\n",
              "    }\n",
              "\n",
              "    [theme=dark] .colab-df-convert:hover {\n",
              "      background-color: #434B5C;\n",
              "      box-shadow: 0px 1px 3px 1px rgba(0, 0, 0, 0.15);\n",
              "      filter: drop-shadow(0px 1px 2px rgba(0, 0, 0, 0.3));\n",
              "      fill: #FFFFFF;\n",
              "    }\n",
              "  </style>\n",
              "\n",
              "    <script>\n",
              "      const buttonEl =\n",
              "        document.querySelector('#df-a0a59f2f-e0b6-40d6-ab20-edb2de45f87c button.colab-df-convert');\n",
              "      buttonEl.style.display =\n",
              "        google.colab.kernel.accessAllowed ? 'block' : 'none';\n",
              "\n",
              "      async function convertToInteractive(key) {\n",
              "        const element = document.querySelector('#df-a0a59f2f-e0b6-40d6-ab20-edb2de45f87c');\n",
              "        const dataTable =\n",
              "          await google.colab.kernel.invokeFunction('convertToInteractive',\n",
              "                                                    [key], {});\n",
              "        if (!dataTable) return;\n",
              "\n",
              "        const docLinkHtml = 'Like what you see? Visit the ' +\n",
              "          '<a target=\"_blank\" href=https://colab.research.google.com/notebooks/data_table.ipynb>data table notebook</a>'\n",
              "          + ' to learn more about interactive tables.';\n",
              "        element.innerHTML = '';\n",
              "        dataTable['output_type'] = 'display_data';\n",
              "        await google.colab.output.renderOutput(dataTable, element);\n",
              "        const docLink = document.createElement('div');\n",
              "        docLink.innerHTML = docLinkHtml;\n",
              "        element.appendChild(docLink);\n",
              "      }\n",
              "    </script>\n",
              "  </div>\n",
              "\n",
              "\n",
              "<div id=\"df-8c477b99-8749-4559-bb6e-afa704bf3f33\">\n",
              "  <button class=\"colab-df-quickchart\" onclick=\"quickchart('df-8c477b99-8749-4559-bb6e-afa704bf3f33')\"\n",
              "            title=\"Suggest charts\"\n",
              "            style=\"display:none;\">\n",
              "\n",
              "<svg xmlns=\"http://www.w3.org/2000/svg\" height=\"24px\"viewBox=\"0 0 24 24\"\n",
              "     width=\"24px\">\n",
              "    <g>\n",
              "        <path d=\"M19 3H5c-1.1 0-2 .9-2 2v14c0 1.1.9 2 2 2h14c1.1 0 2-.9 2-2V5c0-1.1-.9-2-2-2zM9 17H7v-7h2v7zm4 0h-2V7h2v10zm4 0h-2v-4h2v4z\"/>\n",
              "    </g>\n",
              "</svg>\n",
              "  </button>\n",
              "\n",
              "<style>\n",
              "  .colab-df-quickchart {\n",
              "      --bg-color: #E8F0FE;\n",
              "      --fill-color: #1967D2;\n",
              "      --hover-bg-color: #E2EBFA;\n",
              "      --hover-fill-color: #174EA6;\n",
              "      --disabled-fill-color: #AAA;\n",
              "      --disabled-bg-color: #DDD;\n",
              "  }\n",
              "\n",
              "  [theme=dark] .colab-df-quickchart {\n",
              "      --bg-color: #3B4455;\n",
              "      --fill-color: #D2E3FC;\n",
              "      --hover-bg-color: #434B5C;\n",
              "      --hover-fill-color: #FFFFFF;\n",
              "      --disabled-bg-color: #3B4455;\n",
              "      --disabled-fill-color: #666;\n",
              "  }\n",
              "\n",
              "  .colab-df-quickchart {\n",
              "    background-color: var(--bg-color);\n",
              "    border: none;\n",
              "    border-radius: 50%;\n",
              "    cursor: pointer;\n",
              "    display: none;\n",
              "    fill: var(--fill-color);\n",
              "    height: 32px;\n",
              "    padding: 0;\n",
              "    width: 32px;\n",
              "  }\n",
              "\n",
              "  .colab-df-quickchart:hover {\n",
              "    background-color: var(--hover-bg-color);\n",
              "    box-shadow: 0 1px 2px rgba(60, 64, 67, 0.3), 0 1px 3px 1px rgba(60, 64, 67, 0.15);\n",
              "    fill: var(--button-hover-fill-color);\n",
              "  }\n",
              "\n",
              "  .colab-df-quickchart-complete:disabled,\n",
              "  .colab-df-quickchart-complete:disabled:hover {\n",
              "    background-color: var(--disabled-bg-color);\n",
              "    fill: var(--disabled-fill-color);\n",
              "    box-shadow: none;\n",
              "  }\n",
              "\n",
              "  .colab-df-spinner {\n",
              "    border: 2px solid var(--fill-color);\n",
              "    border-color: transparent;\n",
              "    border-bottom-color: var(--fill-color);\n",
              "    animation:\n",
              "      spin 1s steps(1) infinite;\n",
              "  }\n",
              "\n",
              "  @keyframes spin {\n",
              "    0% {\n",
              "      border-color: transparent;\n",
              "      border-bottom-color: var(--fill-color);\n",
              "      border-left-color: var(--fill-color);\n",
              "    }\n",
              "    20% {\n",
              "      border-color: transparent;\n",
              "      border-left-color: var(--fill-color);\n",
              "      border-top-color: var(--fill-color);\n",
              "    }\n",
              "    30% {\n",
              "      border-color: transparent;\n",
              "      border-left-color: var(--fill-color);\n",
              "      border-top-color: var(--fill-color);\n",
              "      border-right-color: var(--fill-color);\n",
              "    }\n",
              "    40% {\n",
              "      border-color: transparent;\n",
              "      border-right-color: var(--fill-color);\n",
              "      border-top-color: var(--fill-color);\n",
              "    }\n",
              "    60% {\n",
              "      border-color: transparent;\n",
              "      border-right-color: var(--fill-color);\n",
              "    }\n",
              "    80% {\n",
              "      border-color: transparent;\n",
              "      border-right-color: var(--fill-color);\n",
              "      border-bottom-color: var(--fill-color);\n",
              "    }\n",
              "    90% {\n",
              "      border-color: transparent;\n",
              "      border-bottom-color: var(--fill-color);\n",
              "    }\n",
              "  }\n",
              "</style>\n",
              "\n",
              "  <script>\n",
              "    async function quickchart(key) {\n",
              "      const quickchartButtonEl =\n",
              "        document.querySelector('#' + key + ' button');\n",
              "      quickchartButtonEl.disabled = true;  // To prevent multiple clicks.\n",
              "      quickchartButtonEl.classList.add('colab-df-spinner');\n",
              "      try {\n",
              "        const charts = await google.colab.kernel.invokeFunction(\n",
              "            'suggestCharts', [key], {});\n",
              "      } catch (error) {\n",
              "        console.error('Error during call to suggestCharts:', error);\n",
              "      }\n",
              "      quickchartButtonEl.classList.remove('colab-df-spinner');\n",
              "      quickchartButtonEl.classList.add('colab-df-quickchart-complete');\n",
              "    }\n",
              "    (() => {\n",
              "      let quickchartButtonEl =\n",
              "        document.querySelector('#df-8c477b99-8749-4559-bb6e-afa704bf3f33 button');\n",
              "      quickchartButtonEl.style.display =\n",
              "        google.colab.kernel.accessAllowed ? 'block' : 'none';\n",
              "    })();\n",
              "  </script>\n",
              "</div>\n",
              "\n",
              "  <div id=\"id_81b552fa-b335-4047-8d10-341b95867de7\">\n",
              "    <style>\n",
              "      .colab-df-generate {\n",
              "        background-color: #E8F0FE;\n",
              "        border: none;\n",
              "        border-radius: 50%;\n",
              "        cursor: pointer;\n",
              "        display: none;\n",
              "        fill: #1967D2;\n",
              "        height: 32px;\n",
              "        padding: 0 0 0 0;\n",
              "        width: 32px;\n",
              "      }\n",
              "\n",
              "      .colab-df-generate:hover {\n",
              "        background-color: #E2EBFA;\n",
              "        box-shadow: 0px 1px 2px rgba(60, 64, 67, 0.3), 0px 1px 3px 1px rgba(60, 64, 67, 0.15);\n",
              "        fill: #174EA6;\n",
              "      }\n",
              "\n",
              "      [theme=dark] .colab-df-generate {\n",
              "        background-color: #3B4455;\n",
              "        fill: #D2E3FC;\n",
              "      }\n",
              "\n",
              "      [theme=dark] .colab-df-generate:hover {\n",
              "        background-color: #434B5C;\n",
              "        box-shadow: 0px 1px 3px 1px rgba(0, 0, 0, 0.15);\n",
              "        filter: drop-shadow(0px 1px 2px rgba(0, 0, 0, 0.3));\n",
              "        fill: #FFFFFF;\n",
              "      }\n",
              "    </style>\n",
              "    <button class=\"colab-df-generate\" onclick=\"generateWithVariable('X_df')\"\n",
              "            title=\"Generate code using this dataframe.\"\n",
              "            style=\"display:none;\">\n",
              "\n",
              "  <svg xmlns=\"http://www.w3.org/2000/svg\" height=\"24px\"viewBox=\"0 0 24 24\"\n",
              "       width=\"24px\">\n",
              "    <path d=\"M7,19H8.4L18.45,9,17,7.55,7,17.6ZM5,21V16.75L18.45,3.32a2,2,0,0,1,2.83,0l1.4,1.43a1.91,1.91,0,0,1,.58,1.4,1.91,1.91,0,0,1-.58,1.4L9.25,21ZM18.45,9,17,7.55Zm-12,3A5.31,5.31,0,0,0,4.9,8.1,5.31,5.31,0,0,0,1,6.5,5.31,5.31,0,0,0,4.9,4.9,5.31,5.31,0,0,0,6.5,1,5.31,5.31,0,0,0,8.1,4.9,5.31,5.31,0,0,0,12,6.5,5.46,5.46,0,0,0,6.5,12Z\"/>\n",
              "  </svg>\n",
              "    </button>\n",
              "    <script>\n",
              "      (() => {\n",
              "      const buttonEl =\n",
              "        document.querySelector('#id_81b552fa-b335-4047-8d10-341b95867de7 button.colab-df-generate');\n",
              "      buttonEl.style.display =\n",
              "        google.colab.kernel.accessAllowed ? 'block' : 'none';\n",
              "\n",
              "      buttonEl.onclick = () => {\n",
              "        google.colab.notebook.generateWithVariable('X_df');\n",
              "      }\n",
              "      })();\n",
              "    </script>\n",
              "  </div>\n",
              "\n",
              "    </div>\n",
              "  </div>\n"
            ],
            "application/vnd.google.colaboratory.intrinsic+json": {
              "type": "dataframe",
              "variable_name": "X_df",
              "summary": "{\n  \"name\": \"X_df\",\n  \"rows\": 5000,\n  \"fields\": [\n    {\n      \"column\": \"Income\",\n      \"properties\": {\n        \"dtype\": \"number\",\n        \"std\": 1.0001000150025003,\n        \"min\": -1.428969135825495,\n        \"max\": 3.2637117837190517,\n        \"num_unique_values\": 162,\n        \"samples\": [\n          1.6777594359100154,\n          0.02663096421841545,\n          2.351246049363168\n        ],\n        \"semantic_type\": \"\",\n        \"description\": \"\"\n      }\n    },\n    {\n      \"column\": \"CCAvg\",\n      \"properties\": {\n        \"dtype\": \"number\",\n        \"std\": 1.0001000150025003,\n        \"min\": -1.1089687490605356,\n        \"max\": 4.6135201258833165,\n        \"num_unique_values\": 108,\n        \"samples\": [\n          0.836677468420374,\n          1.065577023418128,\n          -0.8800691940627814\n        ],\n        \"semantic_type\": \"\",\n        \"description\": \"\"\n      }\n    },\n    {\n      \"column\": \"Mortgage\",\n      \"properties\": {\n        \"dtype\": \"number\",\n        \"std\": 1.0001000150025003,\n        \"min\": -0.5555239265453629,\n        \"max\": 5.688107679016268,\n        \"num_unique_values\": 347,\n        \"samples\": [\n          2.6891980102032007,\n          2.5318781587244823,\n          1.9812586785489685\n        ],\n        \"semantic_type\": \"\",\n        \"description\": \"\"\n      }\n    }\n  ]\n}"
            }
          },
          "metadata": {},
          "execution_count": 10
        }
      ]
    },
    {
      "cell_type": "code",
      "source": [
        "y.unique()"
      ],
      "metadata": {
        "colab": {
          "base_uri": "https://localhost:8080/"
        },
        "id": "VVm7PmAx-UYM",
        "outputId": "3cfcee67-8f67-4ff4-8c95-7eb655de50b0"
      },
      "execution_count": null,
      "outputs": [
        {
          "output_type": "execute_result",
          "data": {
            "text/plain": [
              "array([0, 1])"
            ]
          },
          "metadata": {},
          "execution_count": 15
        }
      ]
    },
    {
      "cell_type": "code",
      "source": [
        "from sklearn.model_selection import train_test_split\n",
        "# División de los datos en conjunto de entrenamiento y prueba en una proporción de 5:1\n",
        "X_train, X_test, y_train, y_test = train_test_split(X_df, y, test_size=0.2, random_state=42)"
      ],
      "metadata": {
        "id": "og1m9TF59g6j"
      },
      "execution_count": null,
      "outputs": []
    },
    {
      "cell_type": "code",
      "source": [
        "from sklearn.ensemble import GradientBoostingRegressor\n",
        "from sklearn.model_selection import train_test_split, cross_val_score\n",
        "from sklearn.metrics import mean_squared_error\n",
        "\n",
        "# Inicializar el modelo de Gradient Boosting para regresión\n",
        "gb_regressor = GradientBoostingRegressor()\n",
        "\n",
        "# Entrenar el modelo utilizando el conjunto de entrenamiento\n",
        "gb_regressor.fit(X_train, y_train)\n",
        "\n",
        "# Realizar predicciones en el conjunto de prueba\n",
        "predictions = gb_regressor.predict(X_test)\n",
        "\n",
        "# Calcular el error cuadrático medio (MSE) en el conjunto de prueba\n",
        "mse = mean_squared_error(y_test, predictions)\n",
        "print(\"Mean Squared Error:\", mse)\n",
        "\n",
        "# Realizar validación cruzada para obtener una evaluación más robusta del modelo\n",
        "cv_scores = cross_val_score(gb_regressor, X, y, cv=5, scoring='neg_mean_squared_error')\n",
        "cv_mse = -cv_scores.mean()  # Negamos el MSE para obtener el valor real\n",
        "print(\"Cross-Validated Mean Squared Error:\", cv_mse)\n",
        "\n",
        "# También puedes evaluar otras métricas de rendimiento según tus necesidades\n",
        "\n",
        "# Si deseas obtener una interpretación del modelo, puedes examinar la importancia de las características\n",
        "feature_importances = gb_regressor.feature_importances_\n",
        "print(\"Feature Importances:\", feature_importances)"
      ],
      "metadata": {
        "colab": {
          "base_uri": "https://localhost:8080/"
        },
        "id": "Y1FvHX949lHj",
        "outputId": "b0b6d8a9-28be-4894-d78c-718aabc7f8ae"
      },
      "execution_count": null,
      "outputs": [
        {
          "output_type": "stream",
          "name": "stdout",
          "text": [
            "Mean Squared Error: 0.05134892195707834\n",
            "Cross-Validated Mean Squared Error: 0.0520731598529395\n",
            "Feature Importances: [0.64788417 0.28853495 0.06358089]\n"
          ]
        }
      ]
    },
    {
      "cell_type": "markdown",
      "source": [
        "El error cuadrático medio (MSE) obtenido en el conjunto de prueba es aproximadamente 0.0514. Esto indica que, en promedio, las predicciones del modelo están a una distancia de 0.0514 unidades al cuadrado de las etiquetas reales del conjunto de prueba. En general, cuanto más bajo sea el valor del MSE, mejor será el rendimiento del modelo.\n",
        "\n",
        "Las importancias de las características. Estas son las ponderaciones que el modelo asigna a cada característica para hacer predicciones. En este caso, se tienen tres características y las importancias son aproximadamente 0.6474, 0.2886 y 0.0640 para la primera, segunda y tercera característica respectivamente.\n",
        "\n",
        "Estas importancias indican qué características son más influyentes en las predicciones del modelo. Una importancia más alta significa que la característica tiene un mayor impacto en las predicciones del modelo. Esto puede ser útil para comprender qué características son más relevantes para el problema en cuestión y para realizar selección de características si es necesario."
      ],
      "metadata": {
        "id": "W5Fuk5La9n09"
      }
    },
    {
      "cell_type": "markdown",
      "source": [
        "El \"Cross-Validated Mean Squared Error\" (Error Cuadrático Medio Validado Cruzadamente) es una medida del rendimiento del modelo de regresión después de aplicar la validación cruzada. Es el promedio del error cuadrático medio (MSE) obtenido en todas las particiones del conjunto de datos durante la validación cruzada.\n",
        "\n",
        "En términos simples, representa cuán cerca están las predicciones del modelo de los valores reales en promedio, después de tener en cuenta la variabilidad en los datos que puede surgir de diferentes divisiones del conjunto de datos en conjuntos de entrenamiento y prueba.\n",
        "\n",
        "En tu caso, un \"Cross-Validated Mean Squared Error\" de 0.052 indica que, en promedio, el modelo predice el cuadrado de la diferencia entre las predicciones y los valores reales de la variable objetivo (en este caso, probablemente el préstamo personal). Un valor de MSE más bajo indica un mejor rendimiento del modelo, ya que implica que las predicciones están más cerca de los valores reales. Por lo tanto, un MSE de 0.052 es bastante bajo y sugiere que el modelo tiene un buen rendimiento en la predicción de la variable objetivo."
      ],
      "metadata": {
        "id": "hTHnvhm6AQDG"
      }
    },
    {
      "cell_type": "code",
      "source": [
        "# Suponiendo que 'X_test' es tu conjunto de características de prueba\n",
        "\n",
        "# Realiza predicciones en el conjunto de prueba\n",
        "predictions = gb_regressor.predict(X_test)\n",
        "\n",
        "# Muestra las predicciones\n",
        "print(\"Predicciones:\", predictions)"
      ],
      "metadata": {
        "colab": {
          "base_uri": "https://localhost:8080/"
        },
        "id": "Qu6rraDq9vcs",
        "outputId": "53989e34-6bf7-4470-e89b-b7b421bd0e59"
      },
      "execution_count": null,
      "outputs": [
        {
          "output_type": "stream",
          "name": "stdout",
          "text": [
            "Predicciones: [ 7.94257414e-04  3.90938455e-01  4.62305308e-01  7.94257414e-04\n",
            "  7.94257414e-04 -1.27925688e-03  3.12219832e-01  1.57673762e-01\n",
            "  7.94257414e-04  3.15980952e-01  7.94257414e-04  7.94257414e-04\n",
            "  4.79519218e-01  9.54692598e-04  4.34619005e-02  1.03728833e+00\n",
            "  5.19794811e-02  6.45520470e-01  7.94257414e-04  9.07033849e-01\n",
            "  7.94257414e-04  3.64793550e-01  3.08455161e-01  4.59173583e-02\n",
            "  7.94257414e-04  7.94257414e-04  7.94257414e-04  3.34408333e-01\n",
            "  8.75460979e-02  3.37735671e-01  4.06784563e-01  7.94257414e-04\n",
            "  9.05731331e-01  1.53113737e-01  7.94257414e-04  7.94257414e-04\n",
            "  7.94257414e-04  7.94257414e-04  7.94257414e-04  7.94257414e-04\n",
            "  7.94257414e-04 -1.27925688e-03  3.05763944e-01  3.72066681e-01\n",
            "  7.94257414e-04  9.54692598e-04  5.21160229e-03 -5.02395209e-03\n",
            "  1.79048155e-01  7.94257414e-04  2.45782027e-03  3.84730403e-01\n",
            "  4.65789279e-01  4.59173583e-02  1.04598753e-02  7.94257414e-04\n",
            "  7.94257414e-04  7.94257414e-04  7.94257414e-04  4.03936126e-01\n",
            "  2.88143850e-02  7.94257414e-04  9.54692598e-04  9.54692598e-04\n",
            "  7.94257414e-04  7.94257414e-04  7.94257414e-04  5.73117373e-01\n",
            "  7.94257414e-04  7.94257414e-04  2.48496796e-01  7.94257414e-04\n",
            "  1.57673762e-01  5.19794811e-02  7.94257414e-04  7.94257414e-04\n",
            "  2.45782027e-03  7.94257414e-04  7.94257414e-04  2.45782027e-03\n",
            "  5.78028645e-01  1.28673965e-01  5.49895966e-01  9.54692598e-04\n",
            "  7.94257414e-04  7.94257414e-04  7.94257414e-04  7.94257414e-04\n",
            "  7.94257414e-04  7.94257414e-04  1.80781270e-01  7.94257414e-04\n",
            "  1.04598753e-02  7.94257414e-04  3.46030345e-02  5.50355620e-01\n",
            "  7.94257414e-04  3.55775070e-01  7.94257414e-04  7.94257414e-04\n",
            "  2.45782027e-03  7.94257414e-04  7.94257414e-04  3.49710968e-01\n",
            "  7.94257414e-04  4.59044729e-02  7.94257414e-04  5.18805867e-01\n",
            "  7.94257414e-04  7.94257414e-04  7.94257414e-04  9.54692598e-04\n",
            "  7.94257414e-04  9.54692598e-04  1.33351540e-01 -1.27925688e-03\n",
            "  7.94257414e-04  9.54692598e-04  7.94257414e-04  1.53113737e-01\n",
            "  7.94257414e-04  7.94257414e-04  2.50556991e-01  7.40770179e-01\n",
            "  7.94257414e-04  7.94257414e-04  7.94257414e-04  2.45782027e-03\n",
            "  7.94257414e-04  4.70378127e-01  1.11996185e-01  7.94257414e-04\n",
            "  9.56916624e-04  5.50355620e-01  7.94257414e-04  7.94257414e-04\n",
            "  3.43101664e-01 -1.27925688e-03  9.54692598e-04  7.94257414e-04\n",
            "  7.94257414e-04  5.82688640e-01  7.94257414e-04  7.94257414e-04\n",
            "  1.31968462e-01  7.94257414e-04  7.94257414e-04  9.54692598e-04\n",
            "  1.31427747e-01  7.94257414e-04  7.94257414e-04  7.94257414e-04\n",
            "  7.94257414e-04  9.54692598e-04  7.65302002e-01  7.94257414e-04\n",
            "  7.94257414e-04  7.94257414e-04  7.94257414e-04  7.94257414e-04\n",
            "  7.94257414e-04  7.94257414e-04  3.55775070e-01  5.25529099e-01\n",
            "  4.32552245e-01  9.54692598e-04  9.54692598e-04 -1.27925688e-03\n",
            "  3.13341715e-01  7.94257414e-04  7.94257414e-04  7.94257414e-04\n",
            "  7.94257414e-04  6.10301121e-01  7.94257414e-04  7.94257414e-04\n",
            "  7.94257414e-04  7.94257414e-04  3.63357845e-01  3.55775070e-01\n",
            "  1.04598753e-02  7.94257414e-04  1.53113737e-01  7.94257414e-04\n",
            "  7.94257414e-04  7.94257414e-04  7.94257414e-04  4.11393131e-01\n",
            "  7.94257414e-04  2.67588367e-01  4.37447104e-01  7.94257414e-04\n",
            "  7.94257414e-04  9.54692598e-04  3.27444687e-01  7.94257414e-04\n",
            "  7.71469125e-02  8.90696323e-01  7.94257414e-04  7.94257414e-04\n",
            "  7.94257414e-04  1.32096427e-02  9.56916624e-04  4.32552245e-01\n",
            "  3.60619569e-01  2.67588367e-01  9.56916624e-04  7.94257414e-04\n",
            "  1.15626549e-04 -1.27925688e-03  3.04896134e-01  7.94257414e-04\n",
            "  7.94257414e-04 -1.27925688e-03  7.94257414e-04  7.94257414e-04\n",
            "  9.54692598e-04  7.94257414e-04  7.94257414e-04  7.94257414e-04\n",
            "  7.94257414e-04  7.94257414e-04  7.94257414e-04  1.28673965e-01\n",
            "  7.94257414e-04  1.32096427e-02  3.45122120e-01  3.24010092e-01\n",
            "  7.94257414e-04  7.94257414e-04  9.54692598e-04  7.94257414e-04\n",
            "  7.94257414e-04  7.94257414e-04  1.32890245e-02  3.86251379e-01\n",
            "  9.54692598e-04  9.54692598e-04  9.54692598e-04  7.94257414e-04\n",
            "  7.94257414e-04  7.94257414e-04  4.99376508e-01  7.94257414e-04\n",
            "  5.86527279e-01  7.94257414e-04  3.56128145e-01  9.54692598e-04\n",
            " -1.27925688e-03  7.94257414e-04 -1.27925688e-03  7.94257414e-04\n",
            "  4.39965367e-01  7.94257414e-04  3.64793550e-01  7.94257414e-04\n",
            "  7.94257414e-04  1.42153489e-02  9.54692598e-04  7.94257414e-04\n",
            "  3.45189488e-01  7.94257414e-04  2.98343145e-01  3.75445147e-01\n",
            "  4.40822922e-02  5.21160229e-03  9.54692598e-04  4.43718562e-01\n",
            "  7.94257414e-04  9.54692598e-04  7.94257414e-04  2.45782027e-03\n",
            "  7.94257414e-04  3.47748035e-01  5.18805867e-01  2.84372076e-01\n",
            "  7.94257414e-04 -1.27925688e-03  2.67588367e-01 -3.59736761e-04\n",
            "  7.94257414e-04  4.86711403e-02  2.73850623e-01  3.20417348e-01\n",
            "  7.94257414e-04  7.94257414e-04  1.08782466e-01  5.12889010e-01\n",
            "  7.94257414e-04  4.59173583e-02  7.94257414e-04  7.94257414e-04\n",
            "  7.94257414e-04  7.94257414e-04  9.75904887e-02  7.94257414e-04\n",
            "  7.94257414e-04  7.94257414e-04  7.94257414e-04  4.59173583e-02\n",
            "  7.94257414e-04  7.94257414e-04  7.94257414e-04  6.86277831e-01\n",
            "  7.94257414e-04  7.94257414e-04  7.94257414e-04  7.94257414e-04\n",
            "  7.94257414e-04  7.94257414e-04  7.94257414e-04 -1.27925688e-03\n",
            "  5.21160229e-03  1.58975523e-01  7.94257414e-04  7.94257414e-04\n",
            "  7.94257414e-04  9.56916624e-04 -1.27925688e-03  7.94257414e-04\n",
            "  7.94257414e-04  7.94257414e-04  2.45782027e-03  7.94257414e-04\n",
            "  2.45782027e-03  7.94257414e-04  7.94257414e-04  1.58975523e-01\n",
            "  2.45782027e-03 -1.27925688e-03  3.87995848e-02  7.94257414e-04\n",
            "  7.94257414e-04  7.94257414e-04  7.94257414e-04  7.94257414e-04\n",
            "  7.01676765e-01  7.94257414e-04  2.41298761e-01  7.94257414e-04\n",
            "  1.58975523e-01  7.94257414e-04  7.71469125e-02  7.94257414e-04\n",
            "  7.94257414e-04  7.94257414e-04  7.94257414e-04  8.12413589e-01\n",
            "  1.31968462e-01  7.94257414e-04  7.94257414e-04  7.94257414e-04\n",
            "  2.45782027e-03  1.62409572e-02  5.91245796e-01  9.54692598e-04\n",
            "  1.31968462e-01  1.29303823e-01  7.94257414e-04  4.53332612e-01\n",
            "  3.94837880e-01  5.86527279e-01  2.45782027e-03  7.94257414e-04\n",
            " -1.27925688e-03  7.94257414e-04  2.45782027e-03  7.94257414e-04\n",
            "  1.79824141e-01  7.94257414e-04  6.92522262e-01  3.04555736e-01\n",
            "  2.13818523e-01  7.94257414e-04  3.19644019e-01  7.94257414e-04\n",
            "  7.94257414e-04  3.72066681e-01  7.94257414e-04  7.71469125e-02\n",
            "  7.94257414e-04  5.56561993e-01  7.94257414e-04  5.25529099e-01\n",
            "  7.94257414e-04  7.94257414e-04  7.94257414e-04  7.94257414e-04\n",
            "  7.94257414e-04  7.94257414e-04  7.94257414e-04  3.01825621e-01\n",
            "  7.94257414e-04  7.94257414e-04  4.65789279e-01  4.70533404e-01\n",
            "  3.11849412e-01  5.21160229e-03  7.94257414e-04  7.94257414e-04\n",
            "  1.58975523e-01  7.94257414e-04  8.90165992e-01  7.94257414e-04\n",
            "  7.71469125e-02  9.54692598e-04  2.45782027e-03  7.94257414e-04\n",
            "  2.45782027e-03 -1.27925688e-03  7.94257414e-04  7.94257414e-04\n",
            "  4.19271097e-01  2.45782027e-03  2.90681361e-01  7.94257414e-04\n",
            " -1.27925688e-03  7.94257414e-04  7.94257414e-04  5.62280058e-01\n",
            "  7.94257414e-04 -1.27925688e-03 -1.27925688e-03 -1.27925688e-03\n",
            "  7.94257414e-04  7.94257414e-04  4.86711403e-02  7.94257414e-04\n",
            "  7.94257414e-04  7.94257414e-04  7.94257414e-04  4.32288116e-01\n",
            "  1.42153489e-02  2.45782027e-03  2.45782027e-03  7.94257414e-04\n",
            "  7.94257414e-04  7.94257414e-04  7.94257414e-04  7.94257414e-04\n",
            "  7.94257414e-04  7.94257414e-04  5.50355620e-01  7.94257414e-04\n",
            "  7.94257414e-04  4.59173583e-02  4.03436556e-01  7.94257414e-04\n",
            "  2.45782027e-03  7.94257414e-04  3.91771588e-03  1.04063482e-01\n",
            "  7.94257414e-04  7.94257414e-04  1.87449947e-01  5.13531451e-01\n",
            "  4.40822922e-02  7.94257414e-04  2.01736385e-01  9.54692598e-04\n",
            "  7.94257414e-04  2.45782027e-03  2.45782027e-03  7.94257414e-04\n",
            "  1.04598753e-02  7.94257414e-04  7.94257414e-04  7.94257414e-04\n",
            "  4.33723821e-01  1.93368826e-01  9.54692598e-04  3.43101664e-01\n",
            "  7.94257414e-04  7.94257414e-04  7.94257414e-04  3.65420009e-01\n",
            "  7.94257414e-04  9.56916624e-04  5.28696950e-03  9.54692598e-04\n",
            " -1.27925688e-03  7.94257414e-04  7.94257414e-04  7.94257414e-04\n",
            "  9.54692598e-04  2.45782027e-03  7.94257414e-04  7.94257414e-04\n",
            "  9.56916624e-04 -1.29745600e-02  7.80602284e-01  7.94257414e-04\n",
            "  7.94257414e-04  7.94257414e-04  1.76881845e-01 -1.27925688e-03\n",
            "  1.16585033e-01  1.42153489e-02  7.94257414e-04  7.94257414e-04\n",
            "  9.54692598e-04 -1.27925688e-03  7.94257414e-04  2.75722992e-01\n",
            "  2.67588367e-01  9.16787465e-01  1.08782466e-01  7.94257414e-04\n",
            "  7.94257414e-04  7.94257414e-04  7.94257414e-04  7.94257414e-04\n",
            "  1.86452334e-01  7.94257414e-04  4.34197225e-01 -1.27925688e-03\n",
            "  7.94257414e-04  7.94257414e-04  2.88482132e-01 -1.27925688e-03\n",
            "  7.94257414e-04  7.94257414e-04  1.42153489e-02  7.94257414e-04\n",
            "  7.94257414e-04  3.19058654e-01  7.94257414e-04  5.18805867e-01\n",
            "  7.94257414e-04  2.53037893e-01  1.42153489e-02  2.19298502e-01\n",
            "  7.94257414e-04  7.94257414e-04  9.54692598e-04  3.72066681e-01\n",
            "  4.59173583e-02  7.94257414e-04  2.08426645e-01  7.94257414e-04\n",
            "  7.94257414e-04  2.13818523e-01  7.94257414e-04  1.04598753e-02\n",
            "  7.94257414e-04  4.77651258e-01  9.54692598e-04  7.94257414e-04\n",
            "  7.94257414e-04  4.59173583e-02  9.54692598e-04  7.94257414e-04\n",
            "  3.32880229e-01  4.17762154e-01  2.45782027e-03  2.45782027e-03\n",
            "  3.19058654e-01  7.94257414e-04  9.54692598e-04  7.94257414e-04\n",
            "  7.94257414e-04  7.94257414e-04  7.94257414e-04  7.94257414e-04\n",
            "  7.94257414e-04  7.94257414e-04  7.94257414e-04  7.94257414e-04\n",
            "  5.71009082e-01  7.94257414e-04  7.94257414e-04  7.94257414e-04\n",
            "  7.94257414e-04  7.94257414e-04  3.64793550e-01 -1.27925688e-03\n",
            "  3.19058654e-01  2.45782027e-03  4.59173583e-02 -1.27925688e-03\n",
            "  7.94257414e-04  7.94257414e-04  7.94257414e-04  7.94257414e-04\n",
            "  9.54692598e-04  7.94257414e-04  7.94257414e-04  3.08455161e-01\n",
            "  1.32403652e-01  7.94257414e-04  7.94257414e-04  2.45782027e-03\n",
            "  6.63859247e-01  7.94257414e-04  9.54692598e-04  7.94257414e-04\n",
            "  9.54692598e-04  4.86711403e-02  7.94257414e-04  3.25734491e-01\n",
            " -2.55737855e-02 -1.27925688e-03  1.80781270e-01  7.94257414e-04\n",
            "  7.94257414e-04  7.94257414e-04  7.94257414e-04  7.94257414e-04\n",
            "  7.94257414e-04  9.54692598e-04  7.94257414e-04  5.93800410e-01\n",
            "  2.45782027e-03  7.94257414e-04  7.94257414e-04  7.94257414e-04\n",
            "  7.94257414e-04  3.32880229e-01  9.54692598e-04  7.94257414e-04\n",
            "  7.94257414e-04  7.94257414e-04  3.47511738e-01  2.45782027e-03\n",
            "  2.45782027e-03  6.38732733e-01  7.94257414e-04  4.59173583e-02\n",
            "  1.42153489e-02  7.94257414e-04  2.53037893e-01  7.94257414e-04\n",
            "  7.94257414e-04  7.94257414e-04  5.50355620e-01  7.94257414e-04\n",
            "  7.94257414e-04  7.94257414e-04  9.56916624e-04  7.94257414e-04\n",
            "  6.07777061e-01  7.94257414e-04  1.32096427e-02  7.94257414e-04\n",
            "  7.94257414e-04  7.71469125e-02  7.94257414e-04  7.94257414e-04\n",
            "  7.94257414e-04  2.00256079e-01  7.94257414e-04  3.77737118e-02\n",
            "  7.94257414e-04  7.94257414e-04  1.86452334e-01  7.94257414e-04\n",
            "  7.94257414e-04  5.51682883e-01  7.94257414e-04  7.20823281e-01\n",
            "  7.94257414e-04  3.84730403e-01  3.31654551e-01  7.94257414e-04\n",
            "  7.94257414e-04  7.94257414e-04  7.94257414e-04  9.69892699e-02\n",
            "  7.94257414e-04  7.94257414e-04  7.94257414e-04  7.94257414e-04\n",
            "  2.45782027e-03  1.28673965e-01  7.94257414e-04  2.91311219e-01\n",
            "  1.42153489e-02  3.76420524e-01  7.94257414e-04  7.94257414e-04\n",
            "  7.94257414e-04  7.94257414e-04  7.94257414e-04  5.86527279e-01\n",
            "  3.45855446e-01  3.40400473e-02  7.94257414e-04  2.67588367e-01\n",
            "  2.08426645e-01  5.81938431e-01  5.28696950e-03  7.94257414e-04\n",
            "  1.42153489e-02  7.94257414e-04  7.81372018e-04  7.94257414e-04\n",
            "  7.94257414e-04  7.94257414e-04  5.46574364e-01  5.21160229e-03\n",
            "  7.94257414e-04  7.94257414e-04  7.94257414e-04  7.94257414e-04\n",
            "  7.94257414e-04  7.94257414e-04  7.94257414e-04  6.31458783e-01\n",
            "  7.94257414e-04  7.94257414e-04  2.45782027e-03  7.94257414e-04\n",
            "  7.94257414e-04  4.42270659e-01  7.81372018e-04  4.59044729e-02\n",
            "  9.54692598e-04  7.94257414e-04  9.54692598e-04  3.64793550e-01\n",
            "  7.94257414e-04  7.94257414e-04  7.94257414e-04  7.94257414e-04\n",
            "  7.94257414e-04  7.94257414e-04  3.63048201e-01  9.54692598e-04\n",
            "  7.94257414e-04  9.54692598e-04  7.94257414e-04  3.43101664e-01\n",
            "  9.04838773e-01  3.94837880e-01  3.55775070e-01  7.94257414e-04\n",
            "  1.28673965e-01  7.94257414e-04  3.32880229e-01  9.54692598e-04\n",
            "  3.90477223e-01  7.94257414e-04  9.54692598e-04  1.28511945e-04\n",
            "  7.94257414e-04  1.01444567e+00  7.94257414e-04  4.00710058e-01\n",
            "  7.94257414e-04  7.94257414e-04  7.94257414e-04  7.94257414e-04\n",
            "  7.94257414e-04  9.56916624e-04  7.94257414e-04  1.53113737e-01\n",
            "  7.94257414e-04  4.63010526e-01  2.45782027e-03  7.94257414e-04\n",
            "  7.94257414e-04  7.94257414e-04 -4.69201366e-03 -1.27925688e-03\n",
            " -1.27925688e-03  2.45782027e-03  2.92345395e-02  7.94257414e-04\n",
            "  7.94257414e-04  4.13639579e-01  7.94257414e-04  7.94257414e-04\n",
            "  7.71469125e-02  7.94257414e-04  2.45782027e-03  7.94257414e-04\n",
            "  7.94257414e-04  7.94257414e-04  4.59173583e-02  7.94257414e-04\n",
            "  7.94257414e-04  7.94257414e-04  5.87553126e-01  3.53374363e-01\n",
            "  2.67588367e-01  7.94257414e-04  7.94257414e-04  5.74120218e-01\n",
            "  9.54692598e-04  3.46030345e-02  7.94257414e-04  9.54692598e-04\n",
            "  2.67588367e-01  2.45782027e-03  7.94257414e-04  4.59173583e-02\n",
            "  9.54692598e-04  1.29303823e-01  2.21252445e-02  7.94257414e-04\n",
            "  5.21160229e-03  5.24096856e-01  7.94257414e-04  7.94257414e-04\n",
            "  7.94257414e-04  6.16020297e-01  7.94257414e-04  2.45782027e-03\n",
            "  7.94257414e-04  7.94257414e-04  7.94257414e-04  6.28061843e-01\n",
            "  7.94257414e-04  5.91308562e-01  5.21160229e-03  1.80781270e-01\n",
            "  7.94257414e-04  7.94257414e-04  7.94257414e-04  2.76287255e-01\n",
            "  4.80851201e-01  1.30886615e-01  2.83145026e-01  4.59044729e-02\n",
            "  4.59173583e-02  4.59173583e-02  2.85192084e-01 -1.27925688e-03\n",
            " -1.27925688e-03  5.28282881e-01  7.94257414e-04  7.94257414e-04\n",
            "  7.38396955e-01  7.94257414e-04  7.94257414e-04  5.85415308e-01\n",
            "  2.44862096e-01  7.94257414e-04  3.90249032e-01  7.94257414e-04\n",
            "  7.94257414e-04  3.55775070e-01  3.64793550e-01  9.54692598e-04\n",
            "  7.94257414e-04  5.87102716e-03  7.94257414e-04  7.94257414e-04\n",
            "  6.10301121e-01  3.55775070e-01  7.94257414e-04  7.94257414e-04\n",
            "  7.94257414e-04  7.94257414e-04  7.94257414e-04  7.94257414e-04\n",
            "  3.53374363e-01  3.19688512e-01  7.94257414e-04  7.94257414e-04\n",
            "  2.77473621e-01  7.94257414e-04  7.94257414e-04  7.94257414e-04\n",
            "  2.78462177e-01  7.94257414e-04  7.94257414e-04  7.94257414e-04\n",
            "  7.94257414e-04  7.94257414e-04  1.32403652e-01  7.94257414e-04\n",
            "  9.54692598e-04  7.94257414e-04  3.43101664e-01  7.94257414e-04\n",
            "  7.94257414e-04  7.94257414e-04  7.33210036e-01  7.94257414e-04\n",
            "  7.94257414e-04  9.54692598e-04  1.87077098e-01  1.42153489e-02\n",
            "  7.94257414e-04  7.94257414e-04  2.87703671e-01  7.94257414e-04\n",
            "  7.94257414e-04  7.94257414e-04  7.94257414e-04  3.02455479e-01\n",
            " -1.27925688e-03  7.94257414e-04  7.94257414e-04  7.94257414e-04\n",
            "  7.94257414e-04  2.45782027e-03  7.94257414e-04  7.94257414e-04\n",
            "  7.94257414e-04  2.45782027e-03  7.94257414e-04  7.94257414e-04\n",
            "  7.94257414e-04  7.94257414e-04  7.94257414e-04  1.42153489e-02\n",
            "  7.94257414e-04  2.45782027e-03  9.54692598e-04  9.54692598e-04\n",
            "  3.72066681e-01  2.67588367e-01  3.22272259e-01  7.94257414e-04\n",
            "  7.94257414e-04  4.47655712e-01  7.94257414e-04  7.72025233e-01\n",
            "  7.94257414e-04  4.86711403e-02  7.94257414e-04  2.45782027e-03\n",
            "  9.56916624e-04  4.59173583e-02  7.94257414e-04  7.94257414e-04\n",
            "  3.05763944e-01  7.94257414e-04  7.94257414e-04  7.94257414e-04\n",
            "  7.94257414e-04  7.94257414e-04  3.27444687e-01  7.80080121e-02\n",
            "  7.94257414e-04  7.94257414e-04  7.94257414e-04  7.94257414e-04\n",
            "  3.48489953e-01  5.74534893e-01  1.42153489e-02  7.94257414e-04\n",
            "  2.08426645e-01  7.94257414e-04  7.94257414e-04  3.55208616e-01\n",
            "  7.22550848e-01  7.94257414e-04 -1.27925688e-03  7.94257414e-04\n",
            "  1.28511945e-04  7.94257414e-04  7.94257414e-04  7.94257414e-04\n",
            "  9.75904887e-02  7.94257414e-04  7.94257414e-04  1.42153489e-02\n",
            "  7.94257414e-04  2.45782027e-03  3.15980952e-01  7.94257414e-04\n",
            "  7.94257414e-04  2.45782027e-03  3.91771588e-03  7.94257414e-04\n",
            "  9.56916624e-04  7.94257414e-04  7.94257414e-04  7.94257414e-04\n",
            "  7.94257414e-04  7.94257414e-04  7.94257414e-04  5.51682883e-01\n",
            "  7.94257414e-04  7.94257414e-04  1.32057605e-01  2.41170125e-01\n",
            "  7.94257414e-04  7.94257414e-04  9.56916624e-04  2.45782027e-03\n",
            "  7.94257414e-04  7.94257414e-04  3.44969800e-01  1.04598753e-02\n",
            "  7.94257414e-04  7.94257414e-04  7.94257414e-04  9.54692598e-04\n",
            "  7.94257414e-04  7.94257414e-04  9.54692598e-04  9.54692598e-04\n",
            "  7.94257414e-04  7.94257414e-04  7.94257414e-04  9.54692598e-04]\n"
          ]
        }
      ]
    },
    {
      "cell_type": "markdown",
      "source": [
        "La predicción para la primera fila es aproximadamente 0.0008. Esto significa que el modelo estima que hay una probabilidad muy baja, alrededor del 0.08%, de que el cliente correspondiente en la primera fila acepte un préstamo personal."
      ],
      "metadata": {
        "id": "mrycXXiZ_k9s"
      }
    },
    {
      "cell_type": "code",
      "source": [
        "\n",
        "# Crear un nuevo cliente con características específicas en un DataFrame\n",
        "nuevo_cliente = pd.DataFrame({'Income': [-0.7], 'CCAvg': [0.2], 'Mortgage': [-0.3]})\n",
        "\n",
        "# Realizar la predicción utilizando el modelo entrenado\n",
        "prediccion = gb_regressor.predict(nuevo_cliente)\n",
        "\n",
        "# Imprimir la predicción\n",
        "print(\"Personal Loan Probability:\", prediccion)"
      ],
      "metadata": {
        "colab": {
          "base_uri": "https://localhost:8080/"
        },
        "id": "2vv2ssV6AlNz",
        "outputId": "7893b0cb-3cea-4661-c53c-a2f7f70cd3e8"
      },
      "execution_count": null,
      "outputs": [
        {
          "output_type": "stream",
          "name": "stdout",
          "text": [
            "Personal Loan Probability: [0.00095469]\n"
          ]
        }
      ]
    }
  ]
}